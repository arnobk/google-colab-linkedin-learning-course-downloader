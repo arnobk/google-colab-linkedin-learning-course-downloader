{
  "nbformat": 4,
  "nbformat_minor": 0,
  "metadata": {
    "colab": {
      "name": "LinkedIn Learning Downloader.ipynb",
      "provenance": [],
      "authorship_tag": "ABX9TyN0zGauEvZpKJguDRTYrdnB",
      "include_colab_link": true
    },
    "kernelspec": {
      "name": "python3",
      "display_name": "Python 3"
    },
    "language_info": {
      "name": "python"
    }
  },
  "cells": [
    {
      "cell_type": "markdown",
      "metadata": {
        "id": "view-in-github",
        "colab_type": "text"
      },
      "source": [
        "<a href=\"https://colab.research.google.com/github/arnobk/google-colab-linkedin-learning-course-downloader/blob/main/LinkedIn_Learning_Downloader.ipynb\" target=\"_parent\"><img src=\"https://colab.research.google.com/assets/colab-badge.svg\" alt=\"Open In Colab\"/></a>"
      ]
    },
    {
      "cell_type": "code",
      "metadata": {
        "cellView": "form",
        "id": "uHcqDkYpOd0R"
      },
      "source": [
        "#@title LinkedIn Learning Video Downloader\n",
        "#@markdown This colab uses [llvd](https://pypi.org/project/llvd/) python CLI Tool. Thanks to the author. You will need a LinkedIn Learning Premium account to use this downloader tool."
      ],
      "execution_count": 17,
      "outputs": []
    },
    {
      "cell_type": "code",
      "metadata": {
        "id": "KrAAcv4EJOxF",
        "cellView": "form"
      },
      "source": [
        "#@title [1] Run this cell to install LinkedIn Learning Video Downloader Python CLI\n",
        "!pip --no-cache-dir install llvd"
      ],
      "execution_count": null,
      "outputs": []
    },
    {
      "cell_type": "code",
      "metadata": {
        "id": "IZHY_Sk-J4qd",
        "cellView": "form"
      },
      "source": [
        "#@title [2] Mount Your Google Drive\n",
        "from google.colab import drive\n",
        "drive.mount('/content/drive')"
      ],
      "execution_count": null,
      "outputs": []
    },
    {
      "cell_type": "code",
      "metadata": {
        "id": "3_vvgeh6KMKY",
        "cellView": "form"
      },
      "source": [
        "#@title [3] Cookie Authentication\n",
        "\n",
        "#@markdown - Login to LinkedIn Learning using Google Chrome.\n",
        "#@markdown - Click on the options in the google chrome (top right with 3 vertical dots).\n",
        "#@markdown - After this, click on more tools followed by Developer Tools (you can also reach here by using the keyboard combination — ctrl+shift+I).\n",
        "#@markdown - Now once you’ve gained access to the developer tools, navigate to the Application tab, and copy the value of two cookies from there named li_at and JSESSIONID respectively.\n",
        "#@markdown - Now enter those Strings below\n",
        "\n",
        "li_at = \"\" #@param {type:\"string\"}\n",
        "JSESSIONID = \"\\\"ajax:xxx\\\"\" #@param {type:\"string\"}\n",
        "\n",
        "!printf 'li_at=$li_at\\nJSESSIONID=$JSESSIONID' > cookies.txt"
      ],
      "execution_count": 3,
      "outputs": []
    },
    {
      "cell_type": "code",
      "metadata": {
        "id": "2L3YM7p7M_qc",
        "cellView": "form"
      },
      "source": [
        "#@title [4] Download Courses\n",
        "\n",
        "#@markdown How to find the course slug?\n",
        "#@markdown - Click on the course\n",
        "#@markdown - Copy the slug next to learning in the URL https://www.linkedin.com/learning/l-essentiel-d-asp-dot-net-core-pour-dot-net-5, in this example the course slug is \"l-essentiel-d-asp-dot-net-core-pour-dot-net-5\"\n",
        "\n",
        "download_location = \"/content/\" #@param {type:\"string\"}\n",
        "course_slug = \"it-service-management-iso20000\" #@param {type:\"string\"}\n",
        "resolution = '720p' #@param [\"720p\", \"540p\", \"360p\"]\n",
        "download_subtitle = True #@param {type:\"boolean\"}\n",
        "#%cd \"$download_location\"\n",
        "res = resolution[0:3]\n",
        "if download_subtitle:\n",
        "  !llvd -c \"$course_slug\" -r \"$res\" --cookies --caption\n",
        "else:\n",
        "  !llvd -c \"$course_slug\" -r \"$res\" --cookies\n",
        "!cp -r \"$course_slug\" \"$download_location\" \n",
        "!rm -rf \"$course_slug\""
      ],
      "execution_count": null,
      "outputs": []
    }
  ]
}